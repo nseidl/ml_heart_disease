{
 "cells": [
  {
   "cell_type": "code",
   "execution_count": 1,
   "metadata": {},
   "outputs": [],
   "source": [
    "import csv\n",
    "import copy\n",
    "import torch\n",
    "import math\n",
    "import numpy as np\n",
    "import matplotlib.pyplot as plt\n",
    "\n",
    "from random import randrange\n",
    "from scipy import stats"
   ]
  },
  {
   "cell_type": "code",
   "execution_count": 2,
   "metadata": {},
   "outputs": [],
   "source": [
    "def load_csv(path_to_data):\n",
    "    with open(path_to_data) as f:\n",
    "        data = []\n",
    "\n",
    "        col_names = None\n",
    "\n",
    "        for row in csv.reader(f):\n",
    "            if not col_names:\n",
    "                col_names = row\n",
    "                col_names[0] = 'age'\n",
    "            else:\n",
    "                data.append([float(i) for i in row])\n",
    "\n",
    "    return col_names, data\n",
    "\n",
    "def prepare_data(data):\n",
    "    \"\"\"\n",
    "    Use z-score of input feature values\n",
    "    https://docs.scipy.org/doc/scipy/reference/generated/scipy.stats.zscore.html\n",
    "    https://en.wikipedia.org/wiki/Feature_scaling#Standardization_(Z-score_Normalization)\n",
    "    \"\"\"\n",
    "    feature_vectors = []\n",
    "    output_classes = []\n",
    "    \n",
    "    for entry in data:\n",
    "        feature_vectors.append(entry[0:-1])\n",
    "        output_classes.append([entry[-1]])\n",
    "        \n",
    "    feature_vectors = np.array(feature_vectors).astype(np.float64)\n",
    "    feature_vectors = np.apply_along_axis(stats.zscore, 0, feature_vectors)\n",
    "        \n",
    "    return feature_vectors, np.array(output_classes), np.hstack((feature_vectors, np.array(output_classes)))\n",
    "\n",
    "def split_data(all_data, train_perc=0.85, seed=0):\n",
    "    np.random.seed(seed)\n",
    "    num_train = math.floor(train_perc * len(all_data))\n",
    "    \n",
    "    use_data = copy.deepcopy(all_data)\n",
    "    \n",
    "    np.random.shuffle(use_data)\n",
    "    \n",
    "    training = []\n",
    "    while len(training) < num_train:\n",
    "        sample, use_data = use_data[-1], use_data[:-1]\n",
    "        \n",
    "        training.append(sample)\n",
    "    testing = use_data\n",
    "    \n",
    "    training_xs = []\n",
    "    training_ys = []\n",
    "    for ind in range(len(training)):\n",
    "        training_xs.append(training[ind][0:-1])\n",
    "        training_ys.append(training[ind][-1])\n",
    "    \n",
    "    testing_xs = []\n",
    "    testing_ys = []\n",
    "    for ind in range(len(testing)):\n",
    "        testing_xs.append(testing[ind][0:-1])\n",
    "        testing_ys.append(testing[ind][-1])\n",
    "        \n",
    "    training_ys = np.expand_dims(training_ys, 1)\n",
    "    testing_ys = np.expand_dims(testing_ys, 1)\n",
    "        \n",
    "    return ((np.array(training_xs), np.array(training_ys).astype(int)), (np.array(testing_xs), np.array(testing_ys).astype(int)))"
   ]
  },
  {
   "cell_type": "code",
   "execution_count": 57,
   "metadata": {},
   "outputs": [],
   "source": [
    "activation_functions = ['linear', 'relu', 'tanh', 'sigmoid']\n",
    "# https://medium.com/biaslyai/pytorch-introduction-to-neural-network-feedforward-neural-network-model-e7231cff47cb\n",
    "# https://adventuresinmachinelearning.com/pytorch-tutorial-deep-learning/\n",
    "# https://discuss.pytorch.org/t/how-to-create-mlp-model-with-arbitrary-number-of-hidden-layers/13124\n",
    "class FeedForwardNN(torch.nn.Module):\n",
    "    def __init__(self, num_layers=2, size_layer=10, activation='linear', final_activation='sigmoid'):\n",
    "        self._validate_args(num_layers, size_layer, activation, final_activation)\n",
    "        super(FeedForwardNN, self).__init__()\n",
    "\n",
    "        self._setup_activation_fns(activation, final_activation)\n",
    "        \n",
    "        num_input_features = 13\n",
    "        num_output_classes = 2\n",
    "        self._setup_layers(num_layers, size_layer, num_input_features, num_output_classes)\n",
    "        \n",
    "    def _validate_args(self, num_layers, size_layer, activation, final_activation):\n",
    "        assert num_layers >= 2, 'min_layers = 2 (1 for input layer; 1 for output layer)'\n",
    "        assert size_layer >= 1, 'at least 1 node required per layer'\n",
    "        assert activation in activation_functions and final_activation in activation_functions, 'only {} are valid actiation functions'.format(activation_functions)\n",
    "        \n",
    "    def _setup_activation_fns(self, a, final_activation):\n",
    "        self.relu = torch.nn.ReLU()\n",
    "        self.sigmoid = torch.nn.Sigmoid()\n",
    "        self.tanh = torch.nn.Tanh()\n",
    "        \n",
    "        if a == 'sigmoid':\n",
    "            self.intermediate_activation = self.sigmoid\n",
    "        elif a == 'tanh':\n",
    "            self.intermediate_activation = self.tanh\n",
    "        elif a == 'relu':\n",
    "            self.intermediate_activation = self.relu\n",
    "        elif a == 'linear':\n",
    "            self.intermediate_activation = lambda x: x\n",
    "        else:\n",
    "            raise Exception('intermediate_activation {} not supported'.format(a))\n",
    "            \n",
    "        if final_activation == 'sigmoid':\n",
    "            self.final_activation = self.sigmoid\n",
    "        elif final_activation == 'tanh':\n",
    "            self.final_activation = self.tanh\n",
    "        elif final_activation == 'relu':\n",
    "            self.final_activation = self.relu\n",
    "        elif final_activation == 'linear':\n",
    "            self.final_activation = lambda x: x\n",
    "        else:\n",
    "            raise Exception('final_activation {} not supported'.format(a))\n",
    "                    \n",
    "    def _setup_layers(self, n, sl, num_in_features, num_out_classes):\n",
    "        self.hidden_layers = torch.nn.ModuleList()\n",
    "        \n",
    "        self.input_layer = torch.nn.Linear(num_in_features, sl)\n",
    "        for layer_ind in range(n - 2):\n",
    "            self.hidden_layers.append(torch.nn.Linear(sl, sl))\n",
    "        self.output_layer = torch.nn.Linear(sl, num_out_classes)\n",
    "        \n",
    "    def forward(self, x):\n",
    "        x = self.intermediate_activation(self.input_layer(x))\n",
    "        \n",
    "        for layer in self.hidden_layers:\n",
    "            x = self.intermediate_activation(layer(x))\n",
    "        \n",
    "        return self.final_activation(self.output_layer(x))\n",
    "    \n",
    "def train_nn(nn, (train_x, train_y), epochs=100, lr=0.0001, verbose=False):\n",
    "    torch.manual_seed(0)\n",
    "    converted_train_y = train_y.squeeze().long()\n",
    "    nn = nn.double()\n",
    "    optimizer = torch.optim.SGD(ffnn.parameters(), lr=lr)\n",
    "    loss_function = torch.nn.CrossEntropyLoss()\n",
    "    \n",
    "    epoch_nums = []\n",
    "    loss_vals = []\n",
    "    \n",
    "    for epoch_ind in range(epochs):\n",
    "        optimizer.zero_grad()\n",
    "        pred_y = nn(train_x)\n",
    "        loss = loss_function(pred_y, converted_train_y)\n",
    "        \n",
    "        if (epoch_ind+1) % 1000 == 0:\n",
    "            epoch_nums.append(epoch_ind+1)\n",
    "            loss_vals.append(loss.item())\n",
    "        if (epoch_ind+1) % 5000 == 0:\n",
    "            if verbose:\n",
    "                print('epoch={} loss={}'.format(epoch_ind+1, loss.item()))\n",
    "            \n",
    "        loss.backward()\n",
    "        optimizer.step()\n",
    "        \n",
    "    return epoch_nums, loss_vals\n",
    "        \n",
    "def class_prediction_from_model_output(model_output):\n",
    "    return torch.ByteTensor([pred_tup.max(0)[1].item() for pred_tup in model_output])\n",
    "\n",
    "def calc_error(labels, predictions):\n",
    "    predictions = class_prediction_from_model_output(predictions)\n",
    "    \n",
    "    num_same = predictions.eq(labels).sum()\n",
    "    num_diff = len(labels) - num_same\n",
    "    \n",
    "    error = 1.0 * num_diff / len(labels)\n",
    "    \n",
    "    return error.item()\n",
    "\n",
    "def plot_xs_ys((xs, ys), (xs_title, ys_title), title):\n",
    "    plt.scatter(xs, ys, color='blue')\n",
    "    plt.xlabel(xs_title)\n",
    "    plt.ylabel(ys_title)\n",
    "    plt.title(title)\n",
    "    plt.show()"
   ]
  },
  {
   "cell_type": "code",
   "execution_count": 35,
   "metadata": {},
   "outputs": [
    {
     "name": "stdout",
     "output_type": "stream",
     "text": [
      "272 training samples\n",
      "31 testing samples\n"
     ]
    }
   ],
   "source": [
    "names, data_points = load_csv('../data/orig_raw.csv')\n",
    "all_xs, all_ys, adjusted_data = prepare_data(data_points)\n",
    "training, testing = split_data(adjusted_data, train_perc=0.90)\n",
    "training = torch.from_numpy(training[0]), torch.from_numpy(training[1])\n",
    "testing = torch.from_numpy(testing[0]), torch.from_numpy(testing[1])\n",
    "print('{} training samples'.format(len(training[0])))\n",
    "print('{} testing samples'.format(len(testing[0])))"
   ]
  },
  {
   "cell_type": "code",
   "execution_count": 64,
   "metadata": {},
   "outputs": [
    {
     "data": {
      "image/png": "[encoded data removed]",
      "text/plain": [
       "<matplotlib.figure.Figure at 0x11af0e910>"
      ]
     },
     "metadata": {
      "needs_background": "light"
     },
     "output_type": "display_data"
    },
    {
     "name": "stdout",
     "output_type": "stream",
     "text": [
      "layers=3 size_layer=10 epochs=150000 lr=0.001\n",
      "----training_error=0.088235296309 testing_error=0.161290317774\n"
     ]
    }
   ],
   "source": [
    "num_layers, size_layer, epochs, lr = 3, 10, 150000, 0.001\n",
    "ffnn = FeedForwardNN(num_layers=num_layers, size_layer=size_layer, activation='relu', final_activation='sigmoid')\n",
    "epoch_nums, loss_vals = train_nn(ffnn, training, epochs=epochs, lr=lr)\n",
    "plot_xs_ys((epoch_nums, loss_vals), ('epoch number', 'loss value'), 'Loss vs. Epoch Number: layers={} size_layer={}'.format(num_layers, size_layer))\n",
    "pred_test_y = ffnn(testing[0])\n",
    "pred_train_y = ffnn(training[0])\n",
    "training_error = calc_error(training[1].squeeze(), pred_train_y)\n",
    "testing_error = calc_error(testing[1].squeeze(), pred_test_y)\n",
    "print('layers={} size_layer={} epochs={} lr={}'.format(num_layers, size_layer, epochs, lr))\n",
    "print('----training_error={} testing_error={}'.format(training_error, testing_error))"
   ]
  },
  {
   "cell_type": "code",
   "execution_count": 65,
   "metadata": {
    "scrolled": true
   },
   "outputs": [
    {
     "data": {
      "image/png": "[encoded data removed]",
      "text/plain": [
       "<matplotlib.figure.Figure at 0x11add9650>"
      ]
     },
     "metadata": {
      "needs_background": "light"
     },
     "output_type": "display_data"
    },
    {
     "name": "stdout",
     "output_type": "stream",
     "text": [
      "layers=5 size_layer=10 epochs=150000 lr=0.001\n",
      "----training_error=0.0808823555708 testing_error=0.129032254219\n"
     ]
    }
   ],
   "source": [
    "num_layers, size_layer, epochs, lr = 5, 10, 150000, 0.001\n",
    "ffnn = FeedForwardNN(num_layers=num_layers, size_layer=size_layer, activation='relu', final_activation='sigmoid')\n",
    "epoch_nums, loss_vals = train_nn(ffnn, training, epochs=epochs, lr=lr)\n",
    "plot_xs_ys((epoch_nums, loss_vals), ('epoch number', 'loss value'), 'Loss vs. Epoch Number: layers={} size_layer={}'.format(num_layers, size_layer))\n",
    "pred_test_y = ffnn(testing[0])\n",
    "pred_train_y = ffnn(training[0])\n",
    "training_error = calc_error(training[1].squeeze(), pred_train_y)\n",
    "testing_error = calc_error(testing[1].squeeze(), pred_test_y)\n",
    "print('layers={} size_layer={} epochs={} lr={}'.format(num_layers, size_layer, epochs, lr))\n",
    "print('----training_error={} testing_error={}'.format(training_error, testing_error))"
   ]
  },
  {
   "cell_type": "code",
   "execution_count": 67,
   "metadata": {},
   "outputs": [
    {
     "data": {
      "image/png": "[encoded data removed]",
      "text/plain": [
       "<matplotlib.figure.Figure at 0x11b2d67d0>"
      ]
     },
     "metadata": {
      "needs_background": "light"
     },
     "output_type": "display_data"
    },
    {
     "name": "stdout",
     "output_type": "stream",
     "text": [
      "layers=5 size_layer=15 epochs=150000 lr=0.001\n",
      "----training_error=0.0661764740944 testing_error=0.161290317774\n"
     ]
    }
   ],
   "source": [
    "num_layers, size_layer, epochs, lr = 5, 15, 150000, 0.001\n",
    "ffnn = FeedForwardNN(num_layers=num_layers, size_layer=size_layer, activation='relu', final_activation='sigmoid')\n",
    "epoch_nums, loss_vals = train_nn(ffnn, training, epochs=epochs, lr=lr)\n",
    "plot_xs_ys((epoch_nums, loss_vals), ('epoch number', 'loss value'), 'Loss vs. Epoch Number: layers={} size_layer={}'.format(num_layers, size_layer))\n",
    "pred_test_y = ffnn(testing[0])\n",
    "pred_train_y = ffnn(training[0])\n",
    "training_error = calc_error(training[1].squeeze(), pred_train_y)\n",
    "testing_error = calc_error(testing[1].squeeze(), pred_test_y)\n",
    "print('layers={} size_layer={} epochs={} lr={}'.format(num_layers, size_layer, epochs, lr))\n",
    "print('----training_error={} testing_error={}'.format(training_error, testing_error))"
   ]
  }
 ],
 "metadata": {
  "kernelspec": {
   "display_name": "Python 2",
   "language": "python",
   "name": "python2"
  },
  "language_info": {
   "codemirror_mode": {
    "name": "ipython",
    "version": 2
   },
   "file_extension": ".py",
   "mimetype": "text/x-python",
   "name": "python",
   "nbconvert_exporter": "python",
   "pygments_lexer": "ipython2",
   "version": "2.7.15"
  }
 },
 "nbformat": 4,
 "nbformat_minor": 2
}
